{
  "nbformat": 4,
  "nbformat_minor": 0,
  "metadata": {
    "colab": {
      "provenance": [],
      "collapsed_sections": [],
      "toc_visible": true,
      "include_colab_link": true
    },
    "kernelspec": {
      "name": "python3",
      "display_name": "Python 3"
    },
    "language_info": {
      "name": "python"
    },
    "accelerator": "GPU"
  },
  "cells": [
    {
      "cell_type": "markdown",
      "metadata": {
        "id": "view-in-github",
        "colab_type": "text"
      },
      "source": [
        "<a href=\"https://colab.research.google.com/github/siilats/PyRep/blob/master/installing_Pyrep.ipynb\" target=\"_parent\"><img src=\"https://colab.research.google.com/assets/colab-badge.svg\" alt=\"Open In Colab\"/></a>"
      ]
    },
    {
      "cell_type": "code",
      "metadata": {
        "id": "4bFL0IMu1T5w"
      },
      "source": [
        "import os"
      ],
      "execution_count": 1,
      "outputs": []
    },
    {
      "cell_type": "code",
      "metadata": {
        "id": "pvPqvPdm1VI9",
        "colab": {
          "base_uri": "https://localhost:8080/"
        },
        "outputId": "c23bcc94-d962-455c-eec8-8fff9f1b31b2"
      },
      "source": [
        "copellia_archive = \"CoppeliaSim_Edu_V4_1_0_Ubuntu18_04.tar.xz\"\n",
        "copellia_unzipped = copellia_archive.split('.')[0]\n",
        "if not os.path.exists(f\"/content/{copellia_archive}\"):\n",
        "    !wget \"https://www.coppeliarobotics.com/files/$copellia_archive\"\n",
        "if not os.path.exists(f\"/content/CoppeliaSim\"):\n",
        "    !tar -xf \"/content/$copellia_archive\" -C \"/content\" > /dev/null\n",
        "    !mv \"/content/$copellia_unzipped\" \"/content/CoppeliaSim\""
      ],
      "execution_count": 2,
      "outputs": [
        {
          "output_type": "stream",
          "name": "stdout",
          "text": [
            "--2022-09-21 21:58:03--  https://www.coppeliarobotics.com/files/CoppeliaSim_Edu_V4_1_0_Ubuntu18_04.tar.xz\n",
            "Resolving www.coppeliarobotics.com (www.coppeliarobotics.com)... 149.210.209.149, 2a01:7c8:eb:0:149:210:209:149\n",
            "Connecting to www.coppeliarobotics.com (www.coppeliarobotics.com)|149.210.209.149|:443... connected.\n",
            "HTTP request sent, awaiting response... 200 OK\n",
            "Length: 161368972 (154M) [application/x-xz]\n",
            "Saving to: ‘CoppeliaSim_Edu_V4_1_0_Ubuntu18_04.tar.xz’\n",
            "\n",
            "CoppeliaSim_Edu_V4_ 100%[===================>] 153.89M  14.7MB/s    in 12s     \n",
            "\n",
            "2022-09-21 21:58:16 (12.9 MB/s) - ‘CoppeliaSim_Edu_V4_1_0_Ubuntu18_04.tar.xz’ saved [161368972/161368972]\n",
            "\n"
          ]
        }
      ]
    },
    {
      "cell_type": "code",
      "metadata": {
        "id": "VDl5St1N3Hiz"
      },
      "source": [
        " if os.path.exists(f\"/content/CoppeliaSim\"):\n",
        "    os.environ[\"COPPELIASIM_ROOT\"] = \"/content/CoppeliaSim/\"\n",
        "    os.environ[\"LD_LIBRARY_PATH\"] = f\"{os.environ['COPPELIASIM_ROOT']}:{os.environ['LD_LIBRARY_PATH']}\"\n",
        "    os.environ[\"QT_QPA_PLATFORM_PLUGIN_PATH\"] = f\"{os.environ['COPPELIASIM_ROOT']}\""
      ],
      "execution_count": 2,
      "outputs": []
    },
    {
      "cell_type": "code",
      "metadata": {
        "id": "1Ege0y-p3Hl3"
      },
      "source": [
        "# !pip3 install --editable=git+git://github.com/stepjam/PyRep.git@master#egg=PyRep"
      ],
      "execution_count": null,
      "outputs": []
    },
    {
      "cell_type": "code",
      "metadata": {
        "colab": {
          "base_uri": "https://localhost:8080/"
        },
        "id": "Ft7SCNK75Z5T",
        "outputId": "0fcf3482-664e-44ef-c998-f298e2eb6fa0"
      },
      "source": [
        "!git clone https://github.com/stepjam/PyRep.git"
      ],
      "execution_count": 4,
      "outputs": [
        {
          "output_type": "stream",
          "name": "stdout",
          "text": [
            "Cloning into 'PyRep'...\n",
            "remote: Enumerating objects: 1242, done.\u001b[K\n",
            "remote: Total 1242 (delta 0), reused 0 (delta 0), pack-reused 1242\u001b[K\n",
            "Receiving objects: 100% (1242/1242), 68.26 MiB | 17.28 MiB/s, done.\n",
            "Resolving deltas: 100% (809/809), done.\n"
          ]
        }
      ]
    },
    {
      "cell_type": "code",
      "metadata": {
        "id": "asQvVIJC5a0C"
      },
      "source": [
        "os.chdir(\"/content/PyRep\")"
      ],
      "execution_count": 3,
      "outputs": []
    },
    {
      "cell_type": "code",
      "metadata": {
        "colab": {
          "base_uri": "https://localhost:8080/"
        },
        "id": "xxiUyxv95jDC",
        "outputId": "6f2a75bb-9dda-4c32-d2ed-d5fcb0ee7a08"
      },
      "source": [
        "!pip3 install -r requirements.txt\n"
      ],
      "execution_count": 4,
      "outputs": [
        {
          "output_type": "stream",
          "name": "stdout",
          "text": [
            "Looking in indexes: https://pypi.org/simple, https://us-python.pkg.dev/colab-wheels/public/simple/\n",
            "Requirement already satisfied: numpy in /usr/local/lib/python3.7/dist-packages (from -r requirements.txt (line 1)) (1.21.6)\n",
            "Requirement already satisfied: cffi==1.14.2 in /usr/local/lib/python3.7/dist-packages (from -r requirements.txt (line 2)) (1.14.2)\n",
            "Requirement already satisfied: pycparser in /usr/local/lib/python3.7/dist-packages (from cffi==1.14.2->-r requirements.txt (line 2)) (2.21)\n"
          ]
        }
      ]
    },
    {
      "cell_type": "code",
      "metadata": {
        "colab": {
          "base_uri": "https://localhost:8080/"
        },
        "id": "9sNVMSb35sVz",
        "outputId": "007652c2-d2f1-42e6-8fb0-eaada93a1575"
      },
      "source": [
        "!pip3 install .\n"
      ],
      "execution_count": 13,
      "outputs": [
        {
          "output_type": "stream",
          "name": "stdout",
          "text": [
            "Looking in indexes: https://pypi.org/simple, https://us-python.pkg.dev/colab-wheels/public/simple/\n",
            "Processing /content/PyRep\n",
            "\u001b[33m  DEPRECATION: A future pip version will change local packages to be built in-place without first copying to a temporary directory. We recommend you use --use-feature=in-tree-build to test your packages with this new behavior before it becomes the default.\n",
            "   pip 21.3 will remove support for this functionality. You can find discussion regarding this at https://github.com/pypa/pip/issues/7555.\u001b[0m\n",
            "Building wheels for collected packages: PyRep\n",
            "  Building wheel for PyRep (setup.py) ... \u001b[?25l\u001b[?25hdone\n",
            "  Created wheel for PyRep: filename=PyRep-4.1.0.3-cp37-cp37m-linux_x86_64.whl size=479984 sha256=475ddd9360525d5832629e6eaedc07e434569f95d486219e0b79361ff7c0c584\n",
            "  Stored in directory: /tmp/pip-ephem-wheel-cache-3guklsay/wheels/59/37/9c/dd455a878e7632e8f516e473c5b0814990e6eae110bd441aec\n",
            "Successfully built PyRep\n",
            "Installing collected packages: PyRep\n",
            "  Attempting uninstall: PyRep\n",
            "    Found existing installation: PyRep 4.1.0.3\n",
            "    Uninstalling PyRep-4.1.0.3:\n",
            "      Successfully uninstalled PyRep-4.1.0.3\n",
            "Successfully installed PyRep-4.1.0.3\n"
          ]
        }
      ]
    },
    {
      "cell_type": "markdown",
      "metadata": {
        "id": "pxgZZ39p4ARv"
      },
      "source": [
        "**RESTART RUNTIME ENV**"
      ]
    },
    {
      "cell_type": "code",
      "metadata": {
        "colab": {
          "base_uri": "https://localhost:8080/"
        },
        "id": "acu7Vhue6_LP",
        "outputId": "eada3830-25a4-46a9-d9a0-586e2697909b"
      },
      "source": [
        "!echo $LD_LIBRARY_PATH"
      ],
      "execution_count": 6,
      "outputs": [
        {
          "output_type": "stream",
          "name": "stdout",
          "text": [
            "/content/CoppeliaSim/:/usr/lib64-nvidia\n"
          ]
        }
      ]
    },
    {
      "cell_type": "code",
      "source": [
        "!apt-get update -qq\n",
        "!apt-get install -y xvfb qtbase5-dev qtdeclarative5-dev libqt5webkit5-dev libsqlite3-dev qt5-default qttools5-dev-tools\n",
        "# start xvfb in the background\n",
        "# /usr/bin/Xvfb $DISPLAY -screen 0 1280x1024x24 &"
      ],
      "metadata": {
        "colab": {
          "base_uri": "https://localhost:8080/"
        },
        "id": "5W2KVG5SFKSH",
        "outputId": "5f011a47-bfe9-499f-b82d-028b9b4cbf07"
      },
      "execution_count": 15,
      "outputs": [
        {
          "output_type": "stream",
          "name": "stdout",
          "text": [
            "Reading package lists... Done\n",
            "Building dependency tree       \n",
            "Reading state information... Done\n",
            "libqt5webkit5-dev is already the newest version (5.212.0~alpha2-7ubuntu1).\n",
            "qttools5-dev-tools is already the newest version (5.9.5-0ubuntu1).\n",
            "libsqlite3-dev is already the newest version (3.22.0-1ubuntu0.6).\n",
            "qtbase5-dev is already the newest version (5.9.5+dfsg-0ubuntu2.6).\n",
            "qt5-default is already the newest version (5.9.5+dfsg-0ubuntu2.6).\n",
            "qtdeclarative5-dev is already the newest version (5.9.5-0ubuntu1.1).\n",
            "xvfb is already the newest version (2:1.19.6-1ubuntu4.11).\n",
            "The following package was automatically installed and is no longer required:\n",
            "  libnvidia-common-460\n",
            "Use 'apt autoremove' to remove it.\n",
            "0 upgraded, 0 newly installed, 0 to remove and 36 not upgraded.\n"
          ]
        }
      ]
    },
    {
      "cell_type": "code",
      "source": [
        "!cur=`pwd`\n",
        "!wget --no-check-certificate http://www.coppeliarobotics.com/files/CoppeliaSim_Edu_V4_1_0_Ubuntu18_04.tar.xz\n",
        "!tar -xf CoppeliaSim_Edu_V4_1_0_Ubuntu18_04.tar.xz\n",
        "!export COPPELIASIM_ROOT=\"$cur/CoppeliaSim_Edu_V4_1_0_Ubuntu18_04\"\n",
        "!echo $COPPELIASIM_ROOT\n",
        "!ls -al\n",
        "!export LD_LIBRARY_PATH=$LD_LIBRARY_PATH:$COPPELIASIM_ROOT:$COPPELIASIM_ROOT/platforms\n",
        "!export QT_QPA_PLATFORM_PLUGIN_PATH=$COPPELIASIM_ROOT"
      ],
      "metadata": {
        "colab": {
          "base_uri": "https://localhost:8080/"
        },
        "id": "8HjA7QxgF-i4",
        "outputId": "5997788d-a4b0-4fe2-9a12-74c31a54d89a"
      },
      "execution_count": 17,
      "outputs": [
        {
          "output_type": "stream",
          "name": "stdout",
          "text": [
            "--2022-09-21 22:14:57--  http://www.coppeliarobotics.com/files/CoppeliaSim_Edu_V4_1_0_Ubuntu18_04.tar.xz\n",
            "Resolving www.coppeliarobotics.com (www.coppeliarobotics.com)... 149.210.209.149, 2a01:7c8:eb:0:149:210:209:149\n",
            "Connecting to www.coppeliarobotics.com (www.coppeliarobotics.com)|149.210.209.149|:80... connected.\n",
            "HTTP request sent, awaiting response... 301 Moved Permanently\n",
            "Location: https://www.coppeliarobotics.com/files/CoppeliaSim_Edu_V4_1_0_Ubuntu18_04.tar.xz [following]\n",
            "--2022-09-21 22:14:58--  https://www.coppeliarobotics.com/files/CoppeliaSim_Edu_V4_1_0_Ubuntu18_04.tar.xz\n",
            "Connecting to www.coppeliarobotics.com (www.coppeliarobotics.com)|149.210.209.149|:443... connected.\n",
            "WARNING: cannot verify www.coppeliarobotics.com's certificate, issued by ‘CN=R3,O=Let's Encrypt,C=US’:\n",
            "  Unable to locally verify the issuer's authority.\n",
            "HTTP request sent, awaiting response... 200 OK\n",
            "Length: 161368972 (154M) [application/x-xz]\n",
            "Saving to: ‘CoppeliaSim_Edu_V4_1_0_Ubuntu18_04.tar.xz’\n",
            "\n",
            "CoppeliaSim_Edu_V4_ 100%[===================>] 153.89M  14.5MB/s    in 12s     \n",
            "\n",
            "2022-09-21 22:15:10 (12.9 MB/s) - ‘CoppeliaSim_Edu_V4_1_0_Ubuntu18_04.tar.xz’ saved [161368972/161368972]\n",
            "\n",
            "/content/CoppeliaSim/\n",
            "total 157684\n",
            "drwxr-xr-x 14 root root      4096 Sep 21 22:15 .\n",
            "drwxr-xr-x  1 root root      4096 Sep 21 21:58 ..\n",
            "drwxr-xr-x  2 root root      4096 Sep 21 21:58 cffi_build\n",
            "drwxr-xr-x 20 1000 1000     12288 Jul 21  2020 CoppeliaSim_Edu_V4_1_0_Ubuntu18_04\n",
            "-rw-r--r--  1 root root 161368972 Jul 20  2021 CoppeliaSim_Edu_V4_1_0_Ubuntu18_04.tar.xz\n",
            "drwxr-xr-x  3 root root      4096 Sep 21 21:58 docs\n",
            "drwxr-xr-x  2 root root      4096 Sep 21 21:58 examples\n",
            "drwxr-xr-x  8 root root      4096 Sep 21 21:58 .git\n",
            "drwxr-xr-x  3 root root      4096 Sep 21 21:58 .github\n",
            "-rw-r--r--  1 root root      1170 Sep 21 21:58 .gitignore\n",
            "-rw-r--r--  1 root root      1070 Sep 21 21:58 LICENSE\n",
            "drwxr-xr-x  9 root root      4096 Sep 21 22:03 pyrep\n",
            "-rw-r--r--  1 root root      9237 Sep 21 21:58 README.md\n",
            "-rw-r--r--  1 root root        19 Sep 21 21:58 requirements.txt\n",
            "drwxr-xr-x  5 root root      4096 Sep 21 21:58 robot_ttms\n",
            "-rw-r--r--  1 root root      1927 Sep 21 21:58 setup.py\n",
            "drwxr-xr-x  2 root root      4096 Sep 21 21:58 system\n",
            "drwxr-xr-x  3 root root      4096 Sep 21 21:58 tests\n",
            "drwxr-xr-x  2 root root      4096 Sep 21 21:58 tools\n",
            "drwxr-xr-x  3 root root      4096 Sep 21 21:58 tutorials\n"
          ]
        }
      ]
    },
    {
      "cell_type": "code",
      "source": [
        "# https://colab.research.google.com/github/davidrpugh/stochastic-expatriate-descent/blob/2020-04-16-remote-rendering-gym-envs/_notebooks/2020-04-16-remote-rendering-gym-envs.ipynb#scrollTo=MNtFm9DPJMYN\n",
        "!apt-get install -y xvfb x11-utils\n",
        "!pip install pyvirtualdisplay==0.2.* PyOpenGL==3.1.* PyOpenGL-accelerate==3.1.*\n",
        "!pip install gym[box2d]==0.17.* "
      ],
      "metadata": {
        "colab": {
          "base_uri": "https://localhost:8080/"
        },
        "id": "f5cjOYd3I3Gp",
        "outputId": "2683b367-e8c6-4a50-abe9-727443d0abf8"
      },
      "execution_count": 23,
      "outputs": [
        {
          "output_type": "stream",
          "name": "stdout",
          "text": [
            "Reading package lists... Done\n",
            "Building dependency tree       \n",
            "Reading state information... Done\n",
            "x11-utils is already the newest version (7.7+3build1).\n",
            "xvfb is already the newest version (2:1.19.6-1ubuntu4.11).\n",
            "The following package was automatically installed and is no longer required:\n",
            "  libnvidia-common-460\n",
            "Use 'apt autoremove' to remove it.\n",
            "0 upgraded, 0 newly installed, 0 to remove and 36 not upgraded.\n",
            "Looking in indexes: https://pypi.org/simple, https://us-python.pkg.dev/colab-wheels/public/simple/\n",
            "Requirement already satisfied: pyvirtualdisplay==0.2.* in /usr/local/lib/python3.7/dist-packages (0.2.5)\n",
            "Requirement already satisfied: PyOpenGL==3.1.* in /usr/local/lib/python3.7/dist-packages (3.1.6)\n",
            "Requirement already satisfied: PyOpenGL-accelerate==3.1.* in /usr/local/lib/python3.7/dist-packages (3.1.5)\n",
            "Requirement already satisfied: EasyProcess in /usr/local/lib/python3.7/dist-packages (from pyvirtualdisplay==0.2.*) (1.1)\n",
            "Looking in indexes: https://pypi.org/simple, https://us-python.pkg.dev/colab-wheels/public/simple/\n",
            "Collecting gym[box2d]==0.17.*\n",
            "  Downloading gym-0.17.3.tar.gz (1.6 MB)\n",
            "\u001b[K     |████████████████████████████████| 1.6 MB 33.8 MB/s \n",
            "\u001b[?25hRequirement already satisfied: scipy in /usr/local/lib/python3.7/dist-packages (from gym[box2d]==0.17.*) (1.7.3)\n",
            "Requirement already satisfied: numpy>=1.10.4 in /usr/local/lib/python3.7/dist-packages (from gym[box2d]==0.17.*) (1.21.6)\n",
            "Collecting pyglet<=1.5.0,>=1.4.0\n",
            "  Downloading pyglet-1.5.0-py2.py3-none-any.whl (1.0 MB)\n",
            "\u001b[K     |████████████████████████████████| 1.0 MB 29.6 MB/s \n",
            "\u001b[?25hRequirement already satisfied: cloudpickle<1.7.0,>=1.2.0 in /usr/local/lib/python3.7/dist-packages (from gym[box2d]==0.17.*) (1.5.0)\n",
            "Collecting box2d-py~=2.3.5\n",
            "  Downloading box2d_py-2.3.8-cp37-cp37m-manylinux1_x86_64.whl (448 kB)\n",
            "\u001b[K     |████████████████████████████████| 448 kB 61.6 MB/s \n",
            "\u001b[?25hRequirement already satisfied: future in /usr/local/lib/python3.7/dist-packages (from pyglet<=1.5.0,>=1.4.0->gym[box2d]==0.17.*) (0.16.0)\n",
            "Building wheels for collected packages: gym\n",
            "  Building wheel for gym (setup.py) ... \u001b[?25l\u001b[?25hdone\n",
            "  Created wheel for gym: filename=gym-0.17.3-py3-none-any.whl size=1654653 sha256=362b2fcbdd91f9b152f1a264a1151d1f2ecf46424f928141d6b08c1309fa74bc\n",
            "  Stored in directory: /root/.cache/pip/wheels/d1/81/4b/dd9c029691022cb957398d1f015e66b75e37637dda61abdf58\n",
            "Successfully built gym\n",
            "Installing collected packages: pyglet, gym, box2d-py\n",
            "  Attempting uninstall: gym\n",
            "    Found existing installation: gym 0.25.2\n",
            "    Uninstalling gym-0.25.2:\n",
            "      Successfully uninstalled gym-0.25.2\n",
            "Successfully installed box2d-py-2.3.8 gym-0.17.3 pyglet-1.5.0\n"
          ]
        }
      ]
    },
    {
      "cell_type": "code",
      "source": [
        "!echo $DISPLAY\n",
        "import pyvirtualdisplay\n",
        "\n",
        "\n",
        "_display = pyvirtualdisplay.Display(visible=False,  # use False with Xvfb\n",
        "                                    size=(1400, 900))\n",
        "_ = _display.start()\n",
        "!echo $DISPLAY"
      ],
      "metadata": {
        "colab": {
          "base_uri": "https://localhost:8080/"
        },
        "id": "A0atrqXeJucB",
        "outputId": "21e300bd-8209-4365-dad6-be4c8f770d72"
      },
      "execution_count": 26,
      "outputs": [
        {
          "output_type": "stream",
          "name": "stdout",
          "text": [
            "\n",
            ":1001\n"
          ]
        }
      ]
    },
    {
      "cell_type": "code",
      "source": [
        "# pip3 install -r requirements.txt\n",
        "!pip3 install setuptools\n",
        "!pip3 install .\n",
        "!mv pyrep _pyrep"
      ],
      "metadata": {
        "colab": {
          "base_uri": "https://localhost:8080/"
        },
        "id": "9Sl_W_meGRu8",
        "outputId": "b66cff96-6174-44fc-d2ec-fa42a26c2dfe"
      },
      "execution_count": 18,
      "outputs": [
        {
          "output_type": "stream",
          "name": "stdout",
          "text": [
            "Looking in indexes: https://pypi.org/simple, https://us-python.pkg.dev/colab-wheels/public/simple/\n",
            "Requirement already satisfied: setuptools in /usr/local/lib/python3.7/dist-packages (57.4.0)\n",
            "Looking in indexes: https://pypi.org/simple, https://us-python.pkg.dev/colab-wheels/public/simple/\n",
            "Processing /content/PyRep\n",
            "\u001b[33m  DEPRECATION: A future pip version will change local packages to be built in-place without first copying to a temporary directory. We recommend you use --use-feature=in-tree-build to test your packages with this new behavior before it becomes the default.\n",
            "   pip 21.3 will remove support for this functionality. You can find discussion regarding this at https://github.com/pypa/pip/issues/7555.\u001b[0m\n",
            "Building wheels for collected packages: PyRep\n",
            "  Building wheel for PyRep (setup.py) ... \u001b[?25l\u001b[?25hdone\n",
            "  Created wheel for PyRep: filename=PyRep-4.1.0.3-cp37-cp37m-linux_x86_64.whl size=479986 sha256=8184e0a57bba186bf4609e0ae4a356b849b62c2ffaa52be00847a9a373137652\n",
            "  Stored in directory: /tmp/pip-ephem-wheel-cache-wr0s843k/wheels/59/37/9c/dd455a878e7632e8f516e473c5b0814990e6eae110bd441aec\n",
            "Successfully built PyRep\n",
            "Installing collected packages: PyRep\n",
            "  Attempting uninstall: PyRep\n",
            "    Found existing installation: PyRep 4.1.0.3\n",
            "    Uninstalling PyRep-4.1.0.3:\n",
            "      Successfully uninstalled PyRep-4.1.0.3\n",
            "Successfully installed PyRep-4.1.0.3\n",
            "qt.qpa.xcb: could not connect to display \n",
            "qt.qpa.plugin: Could not load the Qt platform plugin \"xcb\" in \"/content/CoppeliaSim/\" even though it was found.\n",
            "This application failed to start because no Qt platform plugin could be initialized. Reinstalling the application may fix this problem.\n",
            "\n",
            "Available platform plugins are: eglfs, linuxfb, minimal, minimalegl, offscreen, vnc, webgl, xcb.\n",
            "\n"
          ]
        }
      ]
    },
    {
      "cell_type": "code",
      "source": [
        "!python3 -m unittest discover tests"
      ],
      "metadata": {
        "colab": {
          "base_uri": "https://localhost:8080/"
        },
        "id": "ZUCP7zbiKB5T",
        "outputId": "ed5d677c-f8ad-4d85-c07d-cb5027eda859"
      },
      "execution_count": null,
      "outputs": [
        {
          "output_type": "stream",
          "name": "stdout",
          "text": [
            "QStandardPaths: XDG_RUNTIME_DIR not set, defaulting to '/tmp/runtime-root'\n",
            "[CoppeliaSim:loadinfo]   done.\n",
            ".WARNING: QApplication was not created in the main() thread.\n",
            "QStandardPaths: XDG_RUNTIME_DIR not set, defaulting to '/tmp/runtime-root'\n",
            "[CoppeliaSim:loadinfo]   done.\n",
            ".WARNING: QApplication was not created in the main() thread.\n",
            "QStandardPaths: XDG_RUNTIME_DIR not set, defaulting to '/tmp/runtime-root'\n",
            "[CoppeliaSim:loadinfo]   done.\n",
            ".WARNING: QApplication was not created in the main() thread.\n",
            "QStandardPaths: XDG_RUNTIME_DIR not set, defaulting to '/tmp/runtime-root'\n",
            "[CoppeliaSim:loadinfo]   done.\n",
            ".WARNING: QApplication was not created in the main() thread.\n",
            "QStandardPaths: XDG_RUNTIME_DIR not set, defaulting to '/tmp/runtime-root'\n",
            "[CoppeliaSim:loadinfo]   done.\n",
            ".WARNING: QApplication was not created in the main() thread.\n",
            "QStandardPaths: XDG_RUNTIME_DIR not set, defaulting to '/tmp/runtime-root'\n",
            "[CoppeliaSim:loadinfo]   done.\n",
            ".WARNING: QApplication was not created in the main() thread.\n",
            "QStandardPaths: XDG_RUNTIME_DIR not set, defaulting to '/tmp/runtime-root'\n",
            "[CoppeliaSim:loadinfo]   done.\n",
            ".WARNING: QApplication was not created in the main() thread.\n",
            "QStandardPaths: XDG_RUNTIME_DIR not set, defaulting to '/tmp/runtime-root'\n",
            "[CoppeliaSim:loadinfo]   done.\n",
            ".WARNING: QApplication was not created in the main() thread.\n",
            "QStandardPaths: XDG_RUNTIME_DIR not set, defaulting to '/tmp/runtime-root'\n",
            "[CoppeliaSim:loadinfo]   done.\n",
            ".WARNING: QApplication was not created in the main() thread.\n",
            "QStandardPaths: XDG_RUNTIME_DIR not set, defaulting to '/tmp/runtime-root'\n",
            "[CoppeliaSim:loadinfo]   done.\n",
            ".WARNING: QApplication was not created in the main() thread.\n",
            "QStandardPaths: XDG_RUNTIME_DIR not set, defaulting to '/tmp/runtime-root'\n",
            "[CoppeliaSim:loadinfo]   done.\n",
            ".WARNING: QApplication was not created in the main() thread.\n",
            "QStandardPaths: XDG_RUNTIME_DIR not set, defaulting to '/tmp/runtime-root'\n",
            "[CoppeliaSim:loadinfo]   done.\n",
            ".WARNING: QApplication was not created in the main() thread.\n",
            "QStandardPaths: XDG_RUNTIME_DIR not set, defaulting to '/tmp/runtime-root'\n",
            "[CoppeliaSim:loadinfo]   done.\n",
            ".WARNING: QApplication was not created in the main() thread.\n",
            "QStandardPaths: XDG_RUNTIME_DIR not set, defaulting to '/tmp/runtime-root'\n",
            "[CoppeliaSim:loadinfo]   done.\n",
            ".WARNING: QApplication was not created in the main() thread.\n",
            "QStandardPaths: XDG_RUNTIME_DIR not set, defaulting to '/tmp/runtime-root'\n",
            "[CoppeliaSim:loadinfo]   done.\n",
            ".WARNING: QApplication was not created in the main() thread.\n",
            "QStandardPaths: XDG_RUNTIME_DIR not set, defaulting to '/tmp/runtime-root'\n"
          ]
        }
      ]
    },
    {
      "cell_type": "code",
      "metadata": {
        "colab": {
          "base_uri": "https://localhost:8080/",
          "height": 478
        },
        "id": "YA1yPyqy4NSc",
        "outputId": "d6a88f93-8acc-424f-fcb2-fc3396aa6d64"
      },
      "source": [
        "import pyrep"
      ],
      "execution_count": 10,
      "outputs": [
        {
          "output_type": "error",
          "ename": "ImportError",
          "evalue": "ignored",
          "traceback": [
            "\u001b[0;31m---------------------------------------------------------------------------\u001b[0m",
            "\u001b[0;31mImportError\u001b[0m                               Traceback (most recent call last)",
            "\u001b[0;32m<ipython-input-10-1e3bd50971a4>\u001b[0m in \u001b[0;36m<module>\u001b[0;34m\u001b[0m\n\u001b[0;32m----> 1\u001b[0;31m \u001b[0;32mimport\u001b[0m \u001b[0mpyrep\u001b[0m\u001b[0;34m\u001b[0m\u001b[0;34m\u001b[0m\u001b[0m\n\u001b[0m",
            "\u001b[0;32m/usr/local/lib/python3.7/dist-packages/pyrep/__init__.py\u001b[0m in \u001b[0;36m<module>\u001b[0;34m\u001b[0m\n\u001b[1;32m      3\u001b[0m \u001b[0mtesting\u001b[0m \u001b[0;34m=\u001b[0m \u001b[0;32mFalse\u001b[0m\u001b[0;34m\u001b[0m\u001b[0;34m\u001b[0m\u001b[0m\n\u001b[1;32m      4\u001b[0m \u001b[0;34m\u001b[0m\u001b[0m\n\u001b[0;32m----> 5\u001b[0;31m \u001b[0;32mfrom\u001b[0m \u001b[0;34m.\u001b[0m\u001b[0mpyrep\u001b[0m \u001b[0;32mimport\u001b[0m \u001b[0mPyRep\u001b[0m\u001b[0;34m\u001b[0m\u001b[0;34m\u001b[0m\u001b[0m\n\u001b[0m",
            "\u001b[0;32m/usr/local/lib/python3.7/dist-packages/pyrep/pyrep.py\u001b[0m in \u001b[0;36m<module>\u001b[0;34m\u001b[0m\n\u001b[1;32m      1\u001b[0m \u001b[0;32mimport\u001b[0m \u001b[0mnumpy\u001b[0m \u001b[0;32mas\u001b[0m \u001b[0mnp\u001b[0m\u001b[0;34m\u001b[0m\u001b[0;34m\u001b[0m\u001b[0m\n\u001b[1;32m      2\u001b[0m \u001b[0;32mfrom\u001b[0m \u001b[0mcontextlib\u001b[0m \u001b[0;32mimport\u001b[0m \u001b[0mcontextmanager\u001b[0m\u001b[0;34m\u001b[0m\u001b[0;34m\u001b[0m\u001b[0m\n\u001b[0;32m----> 3\u001b[0;31m \u001b[0;32mfrom\u001b[0m \u001b[0mpyrep\u001b[0m\u001b[0;34m.\u001b[0m\u001b[0mbackend\u001b[0m \u001b[0;32mimport\u001b[0m \u001b[0msim\u001b[0m\u001b[0;34m,\u001b[0m \u001b[0mutils\u001b[0m\u001b[0;34m\u001b[0m\u001b[0;34m\u001b[0m\u001b[0m\n\u001b[0m\u001b[1;32m      4\u001b[0m \u001b[0;32mfrom\u001b[0m \u001b[0mpyrep\u001b[0m\u001b[0;34m.\u001b[0m\u001b[0mconst\u001b[0m \u001b[0;32mimport\u001b[0m \u001b[0mVerbosity\u001b[0m\u001b[0;34m\u001b[0m\u001b[0;34m\u001b[0m\u001b[0m\n\u001b[1;32m      5\u001b[0m \u001b[0;32mfrom\u001b[0m \u001b[0mpyrep\u001b[0m\u001b[0;34m.\u001b[0m\u001b[0mobjects\u001b[0m\u001b[0;34m.\u001b[0m\u001b[0mobject\u001b[0m \u001b[0;32mimport\u001b[0m \u001b[0mObject\u001b[0m\u001b[0;34m\u001b[0m\u001b[0;34m\u001b[0m\u001b[0m\n",
            "\u001b[0;31mImportError\u001b[0m: cannot import name 'sim' from 'pyrep.backend' (/content/PyRep/pyrep/backend/__init__.py)",
            "",
            "\u001b[0;31m---------------------------------------------------------------------------\u001b[0;32m\nNOTE: If your import is failing due to a missing package, you can\nmanually install dependencies using either !pip or !apt.\n\nTo view examples of installing some common dependencies, click the\n\"Open Examples\" button below.\n\u001b[0;31m---------------------------------------------------------------------------\u001b[0m\n"
          ],
          "errorDetails": {
            "actions": [
              {
                "action": "open_url",
                "actionText": "Open Examples",
                "url": "/notebooks/snippets/importing_libraries.ipynb"
              }
            ]
          }
        }
      ]
    },
    {
      "cell_type": "code",
      "metadata": {
        "id": "hrcNnLd8571F"
      },
      "source": [],
      "execution_count": null,
      "outputs": []
    }
  ]
}